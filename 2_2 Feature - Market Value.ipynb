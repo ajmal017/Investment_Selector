{
 "metadata": {
  "language_info": {
   "codemirror_mode": {
    "name": "ipython",
    "version": 3
   },
   "file_extension": ".py",
   "mimetype": "text/x-python",
   "name": "python",
   "nbconvert_exporter": "python",
   "pygments_lexer": "ipython3",
   "version": "3.7.4-final"
  },
  "orig_nbformat": 2,
  "kernelspec": {
   "name": "python_defaultSpec_1598793719602",
   "display_name": "Python 3.7.4 64-bit ('base': conda)"
  }
 },
 "nbformat": 4,
 "nbformat_minor": 2,
 "cells": [
  {
   "cell_type": "code",
   "execution_count": 5,
   "metadata": {},
   "outputs": [],
   "source": [
    "import pandas as pd\n",
    "DF = pd.read_excel (r'/Users/JZ/Downloads/PRICES_ALL.xlsx')\n",
    "#Create a sample for code testing purposes\n",
    "HIST_PRICE_DF = DF[DF['TickName'].isin(['CBA.AX','ANZ.AX','APT.AX','Z1P.AX'])]\n"
   ]
  },
  {
   "cell_type": "code",
   "execution_count": 10,
   "metadata": {},
   "outputs": [
    {
     "output_type": "execute_result",
     "data": {
      "text/plain": "  TickName  absmvmtOPEN\n0   ANZ.AX     0.025399\n1   APT.AX     0.041299\n2   CBA.AX     0.018522\n3   Z1P.AX     0.070248",
      "text/html": "<div>\n<style scoped>\n    .dataframe tbody tr th:only-of-type {\n        vertical-align: middle;\n    }\n\n    .dataframe tbody tr th {\n        vertical-align: top;\n    }\n\n    .dataframe thead th {\n        text-align: right;\n    }\n</style>\n<table border=\"1\" class=\"dataframe\">\n  <thead>\n    <tr style=\"text-align: right;\">\n      <th></th>\n      <th>TickName</th>\n      <th>absmvmtOPEN</th>\n    </tr>\n  </thead>\n  <tbody>\n    <tr>\n      <td>0</td>\n      <td>ANZ.AX</td>\n      <td>0.025399</td>\n    </tr>\n    <tr>\n      <td>1</td>\n      <td>APT.AX</td>\n      <td>0.041299</td>\n    </tr>\n    <tr>\n      <td>2</td>\n      <td>CBA.AX</td>\n      <td>0.018522</td>\n    </tr>\n    <tr>\n      <td>3</td>\n      <td>Z1P.AX</td>\n      <td>0.070248</td>\n    </tr>\n  </tbody>\n</table>\n</div>"
     },
     "metadata": {},
     "execution_count": 10
    }
   ],
   "source": [
    "#Calculate Day level movement\n",
    "\n",
    "#Movement relative to Open price\n",
    "HIST_PRICE_DF['HIGHtakeLOW'] = HIST_PRICE_DF['High']-HIST_PRICE_DF['Low']\n",
    "HIST_PRICE_DF['CLOSEtakeOPEN'] = HIST_PRICE_DF['Close']-HIST_PRICE_DF['Open']\n",
    "HIST_PRICE_DF['HIGHdivideLOW'] = HIST_PRICE_DF['High']/HIST_PRICE_DF['Low']\n",
    "HIST_PRICE_DF['CLOSEdivideOPEN'] = HIST_PRICE_DF['Close']/HIST_PRICE_DF['Open']\n",
    "HIST_PRICE_DF['absmvmtOPEN']=HIST_PRICE_DF['HIGHtakeLOW'].abs()/HIST_PRICE_DF['Open']\n",
    "\n",
    "#Signal Counters\n",
    "#if positive then 1\n",
    "\n",
    "\n",
    "\n",
    "# Calculate Median and standard deviation for the entire period\n",
    "\n",
    "\n",
    "\n",
    "# Calculate Moving median and moving stand deviation across the period\n",
    "\n",
    "\n",
    "\n",
    "\n",
    "#HIST_PRICE_DF.to_excel('/Users/JZ/Downloads/X_TEST.xlsx')  \n"
   ]
  },
  {
   "cell_type": "code",
   "execution_count": 32,
   "metadata": {},
   "outputs": [],
   "source": [
    "#Build a function to cycle through the metrics and add onto the base datamart\n",
    "\n",
    "BASELINE = HIST_PRICE_DF['TickName'].drop_duplicates().reset_index(drop=True)\n",
    "\n",
    "\n",
    "# BASELINE = list(dict.fromkeys(HIST_PRICE_DF['TickName']))\n",
    "# BASELINE = BASELINE.columns = ['TickerName']\n",
    "PRICE_MEDIAN = HIST_PRICE_DF.groupby(\"TickName\")[\"absmvmtOPEN\"].median()\n",
    "PRICE_STD_DEV = HIST_PRICE_DF.groupby(\"TickName\")[\"absmvmtOPEN\"].std()\n",
    "\n",
    "\n",
    "BASELINE = pd.merge(BASELINE,PRICE_MEDIAN,on='TickName')\n",
    "BASELINE = pd.merge(BASELINE,PRICE_STD_DEV,on='TickName')\n",
    "\n"
   ]
  },
  {
   "cell_type": "code",
   "execution_count": null,
   "metadata": {},
   "outputs": [],
   "source": []
  }
 ]
}