{
 "metadata": {
  "language_info": {
   "codemirror_mode": {
    "name": "ipython",
    "version": 3
   },
   "file_extension": ".py",
   "mimetype": "text/x-python",
   "name": "python",
   "nbconvert_exporter": "python",
   "pygments_lexer": "ipython3",
   "version": "3.7.4-final"
  },
  "orig_nbformat": 2,
  "kernelspec": {
   "name": "python_defaultSpec_1599478666662",
   "display_name": "Python 3.7.4 64-bit ('anaconda3': virtualenv)"
  }
 },
 "nbformat": 4,
 "nbformat_minor": 2,
 "cells": [
  {
   "cell_type": "code",
   "execution_count": 1,
   "metadata": {},
   "outputs": [],
   "source": [
    "import pandas as pd\n",
    "DF = pd.read_excel (r'/Users/JZ/Downloads/INFO_ALL.xlsx')\n",
    "#Create a sample for code testing purposes\n",
    "DF_SAMPLE = DF[DF['symbol'].isin(['CBA.AX','ANZ.AX','APT.AX','Z1P.AX'])]\n",
    "\n"
   ]
  },
  {
   "cell_type": "code",
   "execution_count": 3,
   "metadata": {},
   "outputs": [],
   "source": [
    "# Only keep columns needed\n",
    "\n",
    "DF_SAMPLE_SUBSET = DF_SAMPLE[[\n",
    "# Price / volume Movement\t\n",
    "'52WeekChange','fiftyDayAverage','fiftyTwoWeekHigh','fiftyTwoWeekLow','averageDailyVolume10Day','averageVolume10days',\n",
    "#Location\t\n",
    "'address1','address2','city','state','country','zip','exchange',\n",
    "# Dividend\t\n",
    "'dividendRate','dividendYield','exDividendDate','payoutRatio','trailingAnnualDividendRate','trailingAnnualDividendYield',\n",
    "# Timing\t\n",
    "'mostRecentQuarter','lastFiscalYearEnd','lastSplitDate','nextFiscalYearEnd',\n",
    "# Fundamentals\t\n",
    "'open','marketCap','sharesOutstanding','floatShares','bookValue','regularMarketPrice','regularMarketVolume','heldPercentInsiders','heldPercentInstitutions',\n",
    "# Performance\t\n",
    "'earningsQuarterlyGrowth','netIncomeToCommon','beta','enterpriseToEbitda','enterpriseToRevenue','enterpriseValue','priceToBook','priceToSalesTrailing12Months','profitMargins','trailingEps','trailingPE','fullTimeEmployees',\n",
    "# Future dated\t\n",
    "'forwardEps','forwardPE',\n",
    "# Company Identifier\t\n",
    "'symbol','shortName','longName','longBusinessSummary','website','messageBoardId',\n",
    "# Index Grouping\t\n",
    "'industry','sector'\n",
    "]]\n"
   ]
  },
  {
   "cell_type": "code",
   "execution_count": null,
   "metadata": {},
   "outputs": [],
   "source": []
  }
 ]
}