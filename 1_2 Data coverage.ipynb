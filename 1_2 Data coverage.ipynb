{
 "metadata": {
  "language_info": {
   "codemirror_mode": {
    "name": "ipython",
    "version": 3
   },
   "file_extension": ".py",
   "mimetype": "text/x-python",
   "name": "python",
   "nbconvert_exporter": "python",
   "pygments_lexer": "ipython3",
   "version": "3.7.4-final"
  },
  "orig_nbformat": 2,
  "kernelspec": {
   "name": "python_defaultSpec_1600171737323",
   "display_name": "Python 3.7.4 64-bit ('anaconda3': virtualenv)"
  }
 },
 "nbformat": 4,
 "nbformat_minor": 2,
 "cells": [
  {
   "cell_type": "code",
   "execution_count": 47,
   "metadata": {},
   "outputs": [],
   "source": [
    "#Develop ticker coverage table\n",
    "import pandas as pd\n",
    "\n",
    "TIC = pd.read_csv(r'/Users/JZ/Downloads/TICKER_ALL.csv')\n",
    "\n",
    "TIC_U = TIC.drop_duplicates(subset=['colummn']).rename(columns={'colummn': 'TickName'})[['TickName']]\n"
   ]
  },
  {
   "cell_type": "code",
   "execution_count": 49,
   "metadata": {},
   "outputs": [],
   "source": [
    "\n",
    "INF = pd.read_excel (r'/Users/JZ/Downloads/ALL_INFO.xlsx') \n",
    "INF_U = INF.drop_duplicates(subset=['symbol']).rename(columns={'symbol': 'TickName'})[['TickName']]\n",
    "INF_U['IN_INFO']=\"In Info Extract\"\n",
    "\n",
    "PRICE = pd.read_csv (r'/Users/JZ/Downloads/ALL_Prices.csv', sep='|')\n",
    "PRICE_U = PRICE.drop_duplicates(subset=['TickName'])[['TickName']]\n",
    "PRICE_U['IN_PRICE']=\"In Price Extract\"\n",
    "\n",
    "FIN = pd.read_csv (r'/Users/JZ/Downloads/ALL_FIN.csv', sep='|')\n",
    "FIN_U = FIN.drop_duplicates(subset=['TickName'])[['TickName']]\n",
    "FIN_U['IN_FIN']=\"In Financial Extract\"\n"
   ]
  },
  {
   "cell_type": "code",
   "execution_count": 90,
   "metadata": {},
   "outputs": [
    {
     "output_type": "execute_result",
     "data": {
      "text/plain": "           IN_INFO          IN_PRICE                IN_FIN  TickName\n0  In Info Extract  In Price Extract  In Financial Extract      3806\n1  In Info Extract  In Price Extract               Missing      1742\n5          Missing  In Price Extract               Missing       860\n7          Missing           Missing               Missing       266\n4          Missing  In Price Extract  In Financial Extract        25\n3  In Info Extract           Missing               Missing        22\n2  In Info Extract           Missing  In Financial Extract         3\n6          Missing           Missing  In Financial Extract         1",
      "text/html": "<div>\n<style scoped>\n    .dataframe tbody tr th:only-of-type {\n        vertical-align: middle;\n    }\n\n    .dataframe tbody tr th {\n        vertical-align: top;\n    }\n\n    .dataframe thead th {\n        text-align: right;\n    }\n</style>\n<table border=\"1\" class=\"dataframe\">\n  <thead>\n    <tr style=\"text-align: right;\">\n      <th></th>\n      <th>IN_INFO</th>\n      <th>IN_PRICE</th>\n      <th>IN_FIN</th>\n      <th>TickName</th>\n    </tr>\n  </thead>\n  <tbody>\n    <tr>\n      <td>0</td>\n      <td>In Info Extract</td>\n      <td>In Price Extract</td>\n      <td>In Financial Extract</td>\n      <td>3806</td>\n    </tr>\n    <tr>\n      <td>1</td>\n      <td>In Info Extract</td>\n      <td>In Price Extract</td>\n      <td>Missing</td>\n      <td>1742</td>\n    </tr>\n    <tr>\n      <td>5</td>\n      <td>Missing</td>\n      <td>In Price Extract</td>\n      <td>Missing</td>\n      <td>860</td>\n    </tr>\n    <tr>\n      <td>7</td>\n      <td>Missing</td>\n      <td>Missing</td>\n      <td>Missing</td>\n      <td>266</td>\n    </tr>\n    <tr>\n      <td>4</td>\n      <td>Missing</td>\n      <td>In Price Extract</td>\n      <td>In Financial Extract</td>\n      <td>25</td>\n    </tr>\n    <tr>\n      <td>3</td>\n      <td>In Info Extract</td>\n      <td>Missing</td>\n      <td>Missing</td>\n      <td>22</td>\n    </tr>\n    <tr>\n      <td>2</td>\n      <td>In Info Extract</td>\n      <td>Missing</td>\n      <td>In Financial Extract</td>\n      <td>3</td>\n    </tr>\n    <tr>\n      <td>6</td>\n      <td>Missing</td>\n      <td>Missing</td>\n      <td>In Financial Extract</td>\n      <td>1</td>\n    </tr>\n  </tbody>\n</table>\n</div>"
     },
     "metadata": {},
     "execution_count": 90
    }
   ],
   "source": [
    "# Join it back together\n",
    "TIC_COVERAGE = TIC_U.merge(INF_U,how='left',on='TickName').merge(PRICE_U,how='left',on='TickName').merge(FIN_U,how='left',on='TickName').fillna('Missing')\n",
    "\n",
    "TIC_COVERAGE.groupby(['IN_INFO','IN_PRICE','IN_FIN']).count().reset_index().sort_values(by=['TickName'],ascending=False)"
   ]
  },
  {
   "cell_type": "code",
   "execution_count": 75,
   "metadata": {},
   "outputs": [
    {
     "output_type": "execute_result",
     "data": {
      "text/plain": "                                                       TickName\nIN_INFO         IN_PRICE         IN_FIN                        \nIn Info Extract In Price Extract In Financial Extract      3806\n                                 Missing                   1742\n                Missing          In Financial Extract         3\n                                 Missing                     22\nMissing         In Price Extract In Financial Extract        25\n                                 Missing                    860\n                Missing          In Financial Extract         1\n                                 Missing                    266",
      "text/html": "<div>\n<style scoped>\n    .dataframe tbody tr th:only-of-type {\n        vertical-align: middle;\n    }\n\n    .dataframe tbody tr th {\n        vertical-align: top;\n    }\n\n    .dataframe thead th {\n        text-align: right;\n    }\n</style>\n<table border=\"1\" class=\"dataframe\">\n  <thead>\n    <tr style=\"text-align: right;\">\n      <th></th>\n      <th></th>\n      <th></th>\n      <th>TickName</th>\n    </tr>\n    <tr>\n      <th>IN_INFO</th>\n      <th>IN_PRICE</th>\n      <th>IN_FIN</th>\n      <th></th>\n    </tr>\n  </thead>\n  <tbody>\n    <tr>\n      <td rowspan=\"4\" valign=\"top\">In Info Extract</td>\n      <td rowspan=\"2\" valign=\"top\">In Price Extract</td>\n      <td>In Financial Extract</td>\n      <td>3806</td>\n    </tr>\n    <tr>\n      <td>Missing</td>\n      <td>1742</td>\n    </tr>\n    <tr>\n      <td rowspan=\"2\" valign=\"top\">Missing</td>\n      <td>In Financial Extract</td>\n      <td>3</td>\n    </tr>\n    <tr>\n      <td>Missing</td>\n      <td>22</td>\n    </tr>\n    <tr>\n      <td rowspan=\"4\" valign=\"top\">Missing</td>\n      <td rowspan=\"2\" valign=\"top\">In Price Extract</td>\n      <td>In Financial Extract</td>\n      <td>25</td>\n    </tr>\n    <tr>\n      <td>Missing</td>\n      <td>860</td>\n    </tr>\n    <tr>\n      <td rowspan=\"2\" valign=\"top\">Missing</td>\n      <td>In Financial Extract</td>\n      <td>1</td>\n    </tr>\n    <tr>\n      <td>Missing</td>\n      <td>266</td>\n    </tr>\n  </tbody>\n</table>\n</div>"
     },
     "metadata": {},
     "execution_count": 75
    }
   ],
   "source": []
  },
  {
   "cell_type": "code",
   "execution_count": 72,
   "metadata": {},
   "outputs": [
    {
     "output_type": "execute_result",
     "data": {
      "text/plain": "   TickName          IN_INFO          IN_PRICE                IN_FIN\n0    MOQ.AX  In Info Extract  In Price Extract  In Financial Extract\n1    ONT.AX  In Info Extract  In Price Extract  In Financial Extract\n2    14D.AX  In Info Extract  In Price Extract  In Financial Extract\n3    1ST.AX  In Info Extract  In Price Extract  In Financial Extract\n4    T3D.AX  In Info Extract  In Price Extract  In Financial Extract\n5    TDI.AX  In Info Extract  In Price Extract                   NaN\n6    TGP.AX  In Info Extract  In Price Extract  In Financial Extract\n7    TOT.AX  In Info Extract  In Price Extract  In Financial Extract\n8    TDO.AX  In Info Extract  In Price Extract  In Financial Extract\n9    DDD.AX  In Info Extract  In Price Extract  In Financial Extract\n10   3PL.AX  In Info Extract  In Price Extract  In Financial Extract\n11   4DX.AX  In Info Extract  In Price Extract  In Financial Extract\n12   4DS.AX  In Info Extract  In Price Extract  In Financial Extract\n13   5GN.AX  In Info Extract  In Price Extract  In Financial Extract\n14   88E.AX  In Info Extract  In Price Extract  In Financial Extract\n15   8CO.AX  In Info Extract  In Price Extract  In Financial Extract\n16   8IH.AX  In Info Extract  In Price Extract  In Financial Extract\n17   8EC.AX  In Info Extract  In Price Extract                   NaN\n18   8VI.AX  In Info Extract  In Price Extract  In Financial Extract\n19   9SP.AX  In Info Extract  In Price Extract  In Financial Extract",
      "text/html": "<div>\n<style scoped>\n    .dataframe tbody tr th:only-of-type {\n        vertical-align: middle;\n    }\n\n    .dataframe tbody tr th {\n        vertical-align: top;\n    }\n\n    .dataframe thead th {\n        text-align: right;\n    }\n</style>\n<table border=\"1\" class=\"dataframe\">\n  <thead>\n    <tr style=\"text-align: right;\">\n      <th></th>\n      <th>TickName</th>\n      <th>IN_INFO</th>\n      <th>IN_PRICE</th>\n      <th>IN_FIN</th>\n    </tr>\n  </thead>\n  <tbody>\n    <tr>\n      <td>0</td>\n      <td>MOQ.AX</td>\n      <td>In Info Extract</td>\n      <td>In Price Extract</td>\n      <td>In Financial Extract</td>\n    </tr>\n    <tr>\n      <td>1</td>\n      <td>ONT.AX</td>\n      <td>In Info Extract</td>\n      <td>In Price Extract</td>\n      <td>In Financial Extract</td>\n    </tr>\n    <tr>\n      <td>2</td>\n      <td>14D.AX</td>\n      <td>In Info Extract</td>\n      <td>In Price Extract</td>\n      <td>In Financial Extract</td>\n    </tr>\n    <tr>\n      <td>3</td>\n      <td>1ST.AX</td>\n      <td>In Info Extract</td>\n      <td>In Price Extract</td>\n      <td>In Financial Extract</td>\n    </tr>\n    <tr>\n      <td>4</td>\n      <td>T3D.AX</td>\n      <td>In Info Extract</td>\n      <td>In Price Extract</td>\n      <td>In Financial Extract</td>\n    </tr>\n    <tr>\n      <td>5</td>\n      <td>TDI.AX</td>\n      <td>In Info Extract</td>\n      <td>In Price Extract</td>\n      <td>NaN</td>\n    </tr>\n    <tr>\n      <td>6</td>\n      <td>TGP.AX</td>\n      <td>In Info Extract</td>\n      <td>In Price Extract</td>\n      <td>In Financial Extract</td>\n    </tr>\n    <tr>\n      <td>7</td>\n      <td>TOT.AX</td>\n      <td>In Info Extract</td>\n      <td>In Price Extract</td>\n      <td>In Financial Extract</td>\n    </tr>\n    <tr>\n      <td>8</td>\n      <td>TDO.AX</td>\n      <td>In Info Extract</td>\n      <td>In Price Extract</td>\n      <td>In Financial Extract</td>\n    </tr>\n    <tr>\n      <td>9</td>\n      <td>DDD.AX</td>\n      <td>In Info Extract</td>\n      <td>In Price Extract</td>\n      <td>In Financial Extract</td>\n    </tr>\n    <tr>\n      <td>10</td>\n      <td>3PL.AX</td>\n      <td>In Info Extract</td>\n      <td>In Price Extract</td>\n      <td>In Financial Extract</td>\n    </tr>\n    <tr>\n      <td>11</td>\n      <td>4DX.AX</td>\n      <td>In Info Extract</td>\n      <td>In Price Extract</td>\n      <td>In Financial Extract</td>\n    </tr>\n    <tr>\n      <td>12</td>\n      <td>4DS.AX</td>\n      <td>In Info Extract</td>\n      <td>In Price Extract</td>\n      <td>In Financial Extract</td>\n    </tr>\n    <tr>\n      <td>13</td>\n      <td>5GN.AX</td>\n      <td>In Info Extract</td>\n      <td>In Price Extract</td>\n      <td>In Financial Extract</td>\n    </tr>\n    <tr>\n      <td>14</td>\n      <td>88E.AX</td>\n      <td>In Info Extract</td>\n      <td>In Price Extract</td>\n      <td>In Financial Extract</td>\n    </tr>\n    <tr>\n      <td>15</td>\n      <td>8CO.AX</td>\n      <td>In Info Extract</td>\n      <td>In Price Extract</td>\n      <td>In Financial Extract</td>\n    </tr>\n    <tr>\n      <td>16</td>\n      <td>8IH.AX</td>\n      <td>In Info Extract</td>\n      <td>In Price Extract</td>\n      <td>In Financial Extract</td>\n    </tr>\n    <tr>\n      <td>17</td>\n      <td>8EC.AX</td>\n      <td>In Info Extract</td>\n      <td>In Price Extract</td>\n      <td>NaN</td>\n    </tr>\n    <tr>\n      <td>18</td>\n      <td>8VI.AX</td>\n      <td>In Info Extract</td>\n      <td>In Price Extract</td>\n      <td>In Financial Extract</td>\n    </tr>\n    <tr>\n      <td>19</td>\n      <td>9SP.AX</td>\n      <td>In Info Extract</td>\n      <td>In Price Extract</td>\n      <td>In Financial Extract</td>\n    </tr>\n  </tbody>\n</table>\n</div>"
     },
     "metadata": {},
     "execution_count": 72
    }
   ],
   "source": [
    "TIC_COVERAGE.head(20)"
   ]
  },
  {
   "cell_type": "code",
   "execution_count": null,
   "metadata": {},
   "outputs": [],
   "source": []
  }
 ]
}